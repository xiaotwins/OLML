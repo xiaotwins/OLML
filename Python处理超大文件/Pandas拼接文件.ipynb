{
 "cells": [
  {
   "cell_type": "code",
   "execution_count": null,
   "metadata": {},
   "outputs": [],
   "source": [
    "\n",
    "'''\n",
    "\n",
    "Description:使用Pandas拼接多个CSV文件到一个文件（即合并）\n",
    "\n",
    "'''\n",
    "\n",
    "import pandas as pd\n",
    "\n",
    "import os\n",
    "\n",
    "Folder_Path = r'C:\\foldername'          #要拼接的文件夹及其完整路径，注意不要包含中文\n",
    "\n",
    "SaveFile_Path =  r'C:\\foldername'       #拼接后要保存的文件路径\n",
    "\n",
    "SaveFile_Name = r'all.csv'              #合并后要保存的文件名\n",
    "\n",
    " \n",
    "\n",
    "#修改当前工作目录\n",
    "\n",
    "os.chdir(Folder_Path)\n",
    "\n",
    "#将该文件夹下的所有文件名存入一个列表\n",
    "\n",
    "file_list = os.listdir()\n",
    "\n",
    " \n",
    "\n",
    "#读取第一个CSV文件并包含表头\n",
    "\n",
    "df = pd.read_csv(Folder_Path +'\\\\'+ file_list[0])   #编码默认UTF-8，若乱码自行更改\n",
    "\n",
    " \n",
    "\n",
    "#将读取的第一个CSV文件写入合并后的文件保存\n",
    "\n",
    "df.to_csv(SaveFile_Path+'\\\\'+ SaveFile_Name,encoding=\"utf_8_sig\",index=False)\n",
    "\n",
    " \n",
    "\n",
    "#循环遍历列表中各个CSV文件名，并追加到合并后的文件\n",
    "\n",
    "for i in range(1,len(file_list)):\n",
    "    df = pd.read_csv(Folder_Path + '\\\\'+ file_list[i])\n",
    "    df.to_csv(SaveFile_Path+'\\\\'+ SaveFile_Name,encoding=\"utf_8_sig\",index=False, header=False, mode='a+')"
   ]
  }
 ],
 "metadata": {
  "kernelspec": {
   "display_name": "Python 3",
   "language": "python",
   "name": "python3"
  },
  "language_info": {
   "codemirror_mode": {
    "name": "ipython",
    "version": 3
   },
   "file_extension": ".py",
   "mimetype": "text/x-python",
   "name": "python",
   "nbconvert_exporter": "python",
   "pygments_lexer": "ipython3",
   "version": "3.7.7"
  }
 },
 "nbformat": 4,
 "nbformat_minor": 4
}
