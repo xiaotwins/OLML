{
 "cells": [
  {
   "cell_type": "markdown",
   "metadata": {},
   "source": [
    "## 1.创建pptx文档类并插入一页幻灯片"
   ]
  },
  {
   "cell_type": "code",
   "execution_count": 1,
   "metadata": {},
   "outputs": [],
   "source": [
    "from pptx import Presentation\n",
    "prs = Presentation()\n",
    "slide = prs.slides.add_slide(prs.slide_layouts[1])\n",
    "\n",
    "# 对ppt的修改\n",
    "prs.save('python-pptx.pptx')"
   ]
  },
  {
   "cell_type": "markdown",
   "metadata": {},
   "source": [
    "## 2.在创建的这页幻灯片文本框中添加文字"
   ]
  },
  {
   "cell_type": "code",
   "execution_count": 2,
   "metadata": {},
   "outputs": [],
   "source": [
    "body_shape = slide.shapes.placeholders  # body_shape为本页ppt中所有shapes\n",
    "\n",
    "body_shape[0].text = 'this is placeholders[0]'  # 在第一个文本框中文字框架内添加文字\n",
    "\n",
    "body_shape[1].text = 'this is placeholders[1]'  # 在第二个文本框中文字框架内添加文字"
   ]
  },
  {
   "cell_type": "code",
   "execution_count": 3,
   "metadata": {},
   "outputs": [],
   "source": [
    "title_shape = slide.shapes.title  # 取本页ppt的title\n",
    "\n",
    "title_shape.text = 'this is a title'  # 向title文本框写如文字\n",
    "\n",
    "subtitle = slide.shapes.placeholders[1]  # 取出本页第二个文本框\n",
    "\n",
    "subtitle.text = 'this is a subtitle'  # 在第二个文本框中写入文字"
   ]
  },
  {
   "cell_type": "markdown",
   "metadata": {},
   "source": [
    "## 3.在文本框中添加新段落"
   ]
  },
  {
   "cell_type": "code",
   "execution_count": 4,
   "metadata": {},
   "outputs": [],
   "source": [
    "from pptx.util import Pt\n",
    "\n",
    "new_paragraph = body_shape[1].text_frame.add_paragraph()  # 在第二个shape中的文本框架中添加新段落\n",
    "\n",
    "new_paragraph.text = 'add_paragraph'  # 新段落中文字\n",
    "\n",
    "new_paragraph.font.bold = True  # 文字加粗\n",
    "\n",
    "new_paragraph.font.italic = True  # 文字斜体\n",
    "\n",
    "new_paragraph.font.size = Pt(15)  # 文字大小\n",
    "\n",
    "new_paragraph.font.underline = True  # 文字下划线\n",
    "\n",
    "new_paragraph.level = 1  # 新段落的级别"
   ]
  },
  {
   "cell_type": "markdown",
   "metadata": {},
   "source": [
    "## 4.添加新文本框"
   ]
  },
  {
   "cell_type": "code",
   "execution_count": 5,
   "metadata": {},
   "outputs": [
    {
     "ename": "NameError",
     "evalue": "name 'Inches' is not defined",
     "output_type": "error",
     "traceback": [
      "\u001b[1;31m---------------------------------------------------------------------------\u001b[0m",
      "\u001b[1;31mNameError\u001b[0m                                 Traceback (most recent call last)",
      "\u001b[1;32m<ipython-input-5-7a1b299c29f9>\u001b[0m in \u001b[0;36m<module>\u001b[1;34m\u001b[0m\n\u001b[1;32m----> 1\u001b[1;33m \u001b[0mleft\u001b[0m \u001b[1;33m=\u001b[0m \u001b[0mtop\u001b[0m \u001b[1;33m=\u001b[0m \u001b[0mwidth\u001b[0m \u001b[1;33m=\u001b[0m \u001b[0mheight\u001b[0m \u001b[1;33m=\u001b[0m \u001b[0mInches\u001b[0m\u001b[1;33m(\u001b[0m\u001b[1;36m5\u001b[0m\u001b[1;33m)\u001b[0m  \u001b[1;31m# 预设位置及大小\u001b[0m\u001b[1;33m\u001b[0m\u001b[1;33m\u001b[0m\u001b[0m\n\u001b[0m\u001b[0;32m      2\u001b[0m \u001b[1;33m\u001b[0m\u001b[0m\n\u001b[0;32m      3\u001b[0m \u001b[0mtextbox\u001b[0m \u001b[1;33m=\u001b[0m \u001b[0mslide\u001b[0m\u001b[1;33m.\u001b[0m\u001b[0mshapes\u001b[0m\u001b[1;33m.\u001b[0m\u001b[0madd_textbox\u001b[0m\u001b[1;33m(\u001b[0m\u001b[0mleft\u001b[0m\u001b[1;33m,\u001b[0m \u001b[0mtop\u001b[0m\u001b[1;33m,\u001b[0m \u001b[0mwidth\u001b[0m\u001b[1;33m,\u001b[0m \u001b[0mheight\u001b[0m\u001b[1;33m)\u001b[0m  \u001b[1;31m# left，top为相对位置，width，height为文本框大小\u001b[0m\u001b[1;33m\u001b[0m\u001b[1;33m\u001b[0m\u001b[0m\n\u001b[0;32m      4\u001b[0m \u001b[1;33m\u001b[0m\u001b[0m\n\u001b[0;32m      5\u001b[0m \u001b[0mtextbox\u001b[0m\u001b[1;33m.\u001b[0m\u001b[0mtext\u001b[0m \u001b[1;33m=\u001b[0m \u001b[1;34m'this is a new textbox'\u001b[0m  \u001b[1;31m# 文本框中文字\u001b[0m\u001b[1;33m\u001b[0m\u001b[1;33m\u001b[0m\u001b[0m\n",
      "\u001b[1;31mNameError\u001b[0m: name 'Inches' is not defined"
     ]
    }
   ],
   "source": [
    "left = top = width = height = Inches(5)  # 预设位置及大小\n",
    "\n",
    "textbox = slide.shapes.add_textbox(left, top, width, height)  # left，top为相对位置，width，height为文本框大小\n",
    "\n",
    "textbox.text = 'this is a new textbox'  # 文本框中文字\n",
    "\n",
    "new_para = textbox.text_frame.add_paragraph()  # 在新文本框中添加段落\n",
    "\n",
    "new_para.text = 'this is second para in textbox'  # 段落文字"
   ]
  },
  {
   "cell_type": "markdown",
   "metadata": {},
   "source": [
    "## 5.添加图片 "
   ]
  },
  {
   "cell_type": "code",
   "execution_count": 6,
   "metadata": {},
   "outputs": [
    {
     "ename": "NameError",
     "evalue": "name 'Inches' is not defined",
     "output_type": "error",
     "traceback": [
      "\u001b[1;31m---------------------------------------------------------------------------\u001b[0m",
      "\u001b[1;31mNameError\u001b[0m                                 Traceback (most recent call last)",
      "\u001b[1;32m<ipython-input-6-e93e15818f86>\u001b[0m in \u001b[0;36m<module>\u001b[1;34m\u001b[0m\n\u001b[0;32m      1\u001b[0m \u001b[0mimg_path\u001b[0m \u001b[1;33m=\u001b[0m \u001b[1;34m'img_path.jpg'\u001b[0m  \u001b[1;31m# 文件路径\u001b[0m\u001b[1;33m\u001b[0m\u001b[1;33m\u001b[0m\u001b[0m\n\u001b[0;32m      2\u001b[0m \u001b[1;33m\u001b[0m\u001b[0m\n\u001b[1;32m----> 3\u001b[1;33m \u001b[0mleft\u001b[0m\u001b[1;33m,\u001b[0m \u001b[0mtop\u001b[0m\u001b[1;33m,\u001b[0m \u001b[0mwidth\u001b[0m\u001b[1;33m,\u001b[0m \u001b[0mheight\u001b[0m \u001b[1;33m=\u001b[0m \u001b[0mInches\u001b[0m\u001b[1;33m(\u001b[0m\u001b[1;36m1\u001b[0m\u001b[1;33m)\u001b[0m\u001b[1;33m,\u001b[0m \u001b[0mInches\u001b[0m\u001b[1;33m(\u001b[0m\u001b[1;36m4.5\u001b[0m\u001b[1;33m)\u001b[0m\u001b[1;33m,\u001b[0m \u001b[0mInches\u001b[0m\u001b[1;33m(\u001b[0m\u001b[1;36m2\u001b[0m\u001b[1;33m)\u001b[0m\u001b[1;33m,\u001b[0m \u001b[0mInches\u001b[0m\u001b[1;33m(\u001b[0m\u001b[1;36m2\u001b[0m\u001b[1;33m)\u001b[0m  \u001b[1;31m# 预设位置及大小\u001b[0m\u001b[1;33m\u001b[0m\u001b[1;33m\u001b[0m\u001b[0m\n\u001b[0m\u001b[0;32m      4\u001b[0m \u001b[1;33m\u001b[0m\u001b[0m\n\u001b[0;32m      5\u001b[0m \u001b[0mpic\u001b[0m \u001b[1;33m=\u001b[0m \u001b[0mslide\u001b[0m\u001b[1;33m.\u001b[0m\u001b[0mshapes\u001b[0m\u001b[1;33m.\u001b[0m\u001b[0madd_picture\u001b[0m\u001b[1;33m(\u001b[0m\u001b[0mimg_path\u001b[0m\u001b[1;33m,\u001b[0m \u001b[0mleft\u001b[0m\u001b[1;33m,\u001b[0m \u001b[0mtop\u001b[0m\u001b[1;33m,\u001b[0m \u001b[0mwidth\u001b[0m\u001b[1;33m,\u001b[0m \u001b[0mheight\u001b[0m\u001b[1;33m)\u001b[0m  \u001b[1;31m# 在指定位置按预设值添加图片\u001b[0m\u001b[1;33m\u001b[0m\u001b[1;33m\u001b[0m\u001b[0m\n",
      "\u001b[1;31mNameError\u001b[0m: name 'Inches' is not defined"
     ]
    }
   ],
   "source": [
    "img_path = 'img_path.jpg'  # 文件路径\n",
    "\n",
    "left, top, width, height = Inches(1), Inches(4.5), Inches(2), Inches(2)  # 预设位置及大小\n",
    "\n",
    "pic = slide.shapes.add_picture(img_path, left, top, width, height)  # 在指定位置按预设值添加图片"
   ]
  },
  {
   "cell_type": "markdown",
   "metadata": {},
   "source": [
    "## 6.添加形状 "
   ]
  },
  {
   "cell_type": "code",
   "execution_count": 7,
   "metadata": {},
   "outputs": [
    {
     "ename": "NameError",
     "evalue": "name 'Inches' is not defined",
     "output_type": "error",
     "traceback": [
      "\u001b[1;31m---------------------------------------------------------------------------\u001b[0m",
      "\u001b[1;31mNameError\u001b[0m                                 Traceback (most recent call last)",
      "\u001b[1;32m<ipython-input-7-466aa1c6d65e>\u001b[0m in \u001b[0;36m<module>\u001b[1;34m\u001b[0m\n\u001b[0;32m      1\u001b[0m \u001b[1;32mfrom\u001b[0m \u001b[0mpptx\u001b[0m\u001b[1;33m.\u001b[0m\u001b[0menum\u001b[0m\u001b[1;33m.\u001b[0m\u001b[0mshapes\u001b[0m \u001b[1;32mimport\u001b[0m \u001b[0mMSO_SHAPE\u001b[0m\u001b[1;33m\u001b[0m\u001b[1;33m\u001b[0m\u001b[0m\n\u001b[0;32m      2\u001b[0m \u001b[1;33m\u001b[0m\u001b[0m\n\u001b[1;32m----> 3\u001b[1;33m \u001b[0mleft\u001b[0m\u001b[1;33m,\u001b[0m \u001b[0mtop\u001b[0m\u001b[1;33m,\u001b[0m \u001b[0mwidth\u001b[0m\u001b[1;33m,\u001b[0m \u001b[0mheight\u001b[0m \u001b[1;33m=\u001b[0m \u001b[0mInches\u001b[0m\u001b[1;33m(\u001b[0m\u001b[1;36m1\u001b[0m\u001b[1;33m)\u001b[0m\u001b[1;33m,\u001b[0m \u001b[0mInches\u001b[0m\u001b[1;33m(\u001b[0m\u001b[1;36m3\u001b[0m\u001b[1;33m)\u001b[0m\u001b[1;33m,\u001b[0m \u001b[0mInches\u001b[0m\u001b[1;33m(\u001b[0m\u001b[1;36m1.8\u001b[0m\u001b[1;33m)\u001b[0m\u001b[1;33m,\u001b[0m \u001b[0mInches\u001b[0m\u001b[1;33m(\u001b[0m\u001b[1;36m1\u001b[0m\u001b[1;33m)\u001b[0m  \u001b[1;31m# 预设位置及大小\u001b[0m\u001b[1;33m\u001b[0m\u001b[1;33m\u001b[0m\u001b[0m\n\u001b[0m\u001b[0;32m      4\u001b[0m \u001b[1;33m\u001b[0m\u001b[0m\n\u001b[0;32m      5\u001b[0m \u001b[0mshape\u001b[0m \u001b[1;33m=\u001b[0m \u001b[0mslide\u001b[0m\u001b[1;33m.\u001b[0m\u001b[0mshapes\u001b[0m\u001b[1;33m.\u001b[0m\u001b[0madd_shape\u001b[0m\u001b[1;33m(\u001b[0m\u001b[0mMSO_SHAPE\u001b[0m\u001b[1;33m.\u001b[0m\u001b[0mPENTAGON\u001b[0m\u001b[1;33m,\u001b[0m \u001b[0mleft\u001b[0m\u001b[1;33m,\u001b[0m \u001b[0mtop\u001b[0m\u001b[1;33m,\u001b[0m \u001b[0mwidth\u001b[0m\u001b[1;33m,\u001b[0m \u001b[0mheight\u001b[0m\u001b[1;33m)\u001b[0m  \u001b[1;31m# 在指定位置按预设值添加类型为PENTAGON的形状\u001b[0m\u001b[1;33m\u001b[0m\u001b[1;33m\u001b[0m\u001b[0m\n",
      "\u001b[1;31mNameError\u001b[0m: name 'Inches' is not defined"
     ]
    }
   ],
   "source": [
    "from pptx.enum.shapes import MSO_SHAPE\n",
    "\n",
    "left, top, width, height = Inches(1), Inches(3), Inches(1.8), Inches(1)  # 预设位置及大小\n",
    "\n",
    "shape = slide.shapes.add_shape(MSO_SHAPE.PENTAGON, left, top, width, height)  # 在指定位置按预设值添加类型为PENTAGON的形状\n",
    "\n",
    "shape.text = 'Step 1'\n",
    "\n",
    "for n in range(2, 6):\n",
    "\n",
    "    left = left + width - Inches(0.3)\n",
    "\n",
    "    shape = slide.shapes.add_shape(MSO_SHAPE.CHEVRON, left, top, width, height)\n",
    "\n",
    "    shape.text = 'Step{}'.format(n)"
   ]
  },
  {
   "cell_type": "markdown",
   "metadata": {},
   "source": [
    "## 7.添加表格"
   ]
  },
  {
   "cell_type": "code",
   "execution_count": 8,
   "metadata": {},
   "outputs": [
    {
     "ename": "NameError",
     "evalue": "name 'Inches' is not defined",
     "output_type": "error",
     "traceback": [
      "\u001b[1;31m---------------------------------------------------------------------------\u001b[0m",
      "\u001b[1;31mNameError\u001b[0m                                 Traceback (most recent call last)",
      "\u001b[1;32m<ipython-input-8-59a0f05b9ca7>\u001b[0m in \u001b[0;36m<module>\u001b[1;34m\u001b[0m\n\u001b[1;32m----> 1\u001b[1;33m \u001b[0mrows\u001b[0m\u001b[1;33m,\u001b[0m \u001b[0mcols\u001b[0m\u001b[1;33m,\u001b[0m \u001b[0mleft\u001b[0m\u001b[1;33m,\u001b[0m \u001b[0mtop\u001b[0m\u001b[1;33m,\u001b[0m \u001b[0mwidth\u001b[0m\u001b[1;33m,\u001b[0m \u001b[0mheight\u001b[0m \u001b[1;33m=\u001b[0m \u001b[1;36m2\u001b[0m\u001b[1;33m,\u001b[0m \u001b[1;36m2\u001b[0m\u001b[1;33m,\u001b[0m \u001b[0mInches\u001b[0m\u001b[1;33m(\u001b[0m\u001b[1;36m3.5\u001b[0m\u001b[1;33m)\u001b[0m\u001b[1;33m,\u001b[0m \u001b[0mInches\u001b[0m\u001b[1;33m(\u001b[0m\u001b[1;36m4.5\u001b[0m\u001b[1;33m)\u001b[0m\u001b[1;33m,\u001b[0m \u001b[0mInches\u001b[0m\u001b[1;33m(\u001b[0m\u001b[1;36m6\u001b[0m\u001b[1;33m)\u001b[0m\u001b[1;33m,\u001b[0m \u001b[0mInches\u001b[0m\u001b[1;33m(\u001b[0m\u001b[1;36m0.8\u001b[0m\u001b[1;33m)\u001b[0m\u001b[1;33m\u001b[0m\u001b[1;33m\u001b[0m\u001b[0m\n\u001b[0m\u001b[0;32m      2\u001b[0m \u001b[1;33m\u001b[0m\u001b[0m\n\u001b[0;32m      3\u001b[0m \u001b[0mtable\u001b[0m \u001b[1;33m=\u001b[0m \u001b[0mslide\u001b[0m\u001b[1;33m.\u001b[0m\u001b[0mshapes\u001b[0m\u001b[1;33m.\u001b[0m\u001b[0madd_table\u001b[0m\u001b[1;33m(\u001b[0m\u001b[0mrows\u001b[0m\u001b[1;33m,\u001b[0m \u001b[0mcols\u001b[0m\u001b[1;33m,\u001b[0m \u001b[0mleft\u001b[0m\u001b[1;33m,\u001b[0m \u001b[0mtop\u001b[0m\u001b[1;33m,\u001b[0m \u001b[0mwidth\u001b[0m\u001b[1;33m,\u001b[0m \u001b[0mheight\u001b[0m\u001b[1;33m)\u001b[0m\u001b[1;33m.\u001b[0m\u001b[0mtable\u001b[0m  \u001b[1;31m# 添加表格，并取表格类\u001b[0m\u001b[1;33m\u001b[0m\u001b[1;33m\u001b[0m\u001b[0m\n\u001b[0;32m      4\u001b[0m \u001b[1;33m\u001b[0m\u001b[0m\n\u001b[0;32m      5\u001b[0m \u001b[0mtable\u001b[0m\u001b[1;33m.\u001b[0m\u001b[0mcolumns\u001b[0m\u001b[1;33m[\u001b[0m\u001b[1;36m0\u001b[0m\u001b[1;33m]\u001b[0m\u001b[1;33m.\u001b[0m\u001b[0mwidth\u001b[0m \u001b[1;33m=\u001b[0m \u001b[0mInches\u001b[0m\u001b[1;33m(\u001b[0m\u001b[1;36m2.0\u001b[0m\u001b[1;33m)\u001b[0m  \u001b[1;31m# 第一纵列宽度\u001b[0m\u001b[1;33m\u001b[0m\u001b[1;33m\u001b[0m\u001b[0m\n",
      "\u001b[1;31mNameError\u001b[0m: name 'Inches' is not defined"
     ]
    }
   ],
   "source": [
    "rows, cols, left, top, width, height = 2, 2, Inches(3.5), Inches(4.5), Inches(6), Inches(0.8)\n",
    "\n",
    "table = slide.shapes.add_table(rows, cols, left, top, width, height).table  # 添加表格，并取表格类\n",
    "\n",
    "table.columns[0].width = Inches(2.0)  # 第一纵列宽度\n",
    "\n",
    "table.columns[1].width = Inches(4.0)  # 第二纵列宽度\n",
    "\n",
    "table.cell(0, 0).text = 'text00'  # 指定位置写入文本\n",
    "\n",
    "table.cell(0, 1).text = 'text01'\n",
    "\n",
    "table.cell(1, 0).text = 'text10'\n",
    "\n",
    "table.cell(1, 1).text = 'text11'"
   ]
  },
  {
   "cell_type": "markdown",
   "metadata": {},
   "source": [
    "## 综合, 绘制图表"
   ]
  },
  {
   "cell_type": "code",
   "execution_count": 9,
   "metadata": {},
   "outputs": [],
   "source": [
    "#!/usr/bin/env python\n",
    "# encoding: utf-8\n",
    "\n",
    "from pptx import Presentation\n",
    "\n",
    "from pptx.chart.data import ChartData\n",
    "\n",
    "from pptx.enum.chart import XL_CHART_TYPE\n",
    "\n",
    "from pptx.util import Inches\n",
    "\n",
    "from pptx.enum.chart import XL_TICK_MARK\n",
    "\n",
    "from pptx.util import Pt\n",
    "\n",
    "from pptx.dml.color import RGBColor\n",
    "\n",
    "from pptx.enum.chart import XL_LABEL_POSITION\n",
    "\n",
    "from pptx.enum.chart import XL_LEGEND_POSITION\n",
    "\n",
    " \n",
    "\n",
    "prs = Presentation()\n",
    "\n",
    " \n",
    "\n",
    "slide = prs.slides.add_slide(prs.slide_layouts[6])  # 在幻灯片中加入一页6号风格（空白）幻灯片\n",
    "\n",
    " \n",
    "\n",
    "# chart1 左上方图\n",
    "\n",
    "x, y, cx, cy = Inches(0.5), Inches(0.5), Inches(4), Inches(3)  # 按英尺标准指定x，y值\n",
    "\n",
    " \n",
    "\n",
    "chart_data = ChartData()  # 图表data类\n",
    "\n",
    " \n",
    "\n",
    "chart_data.categories = [u'A班级得分率', u'B班级得分率']  # 图表加入两栏\n",
    "\n",
    "chart_data.add_series(u'得分率对比', (80.5, 60.5))  # 在两栏分别填入数据\n",
    "\n",
    " \n",
    "\n",
    "graphic_frame = slide.shapes.add_chart(XL_CHART_TYPE.COLUMN_CLUSTERED, x, y, cx, cy, chart_data)  \n",
    "# add_chart(图表类型，xy表示图表位置，cx cy表示图表宽高，并且插入chart_data中规定好的数据）\n",
    "\n",
    " \n",
    "\n",
    "chart = graphic_frame.chart  # 从生成的图表中取出图表类\n",
    "\n",
    "chart.chart_style = 21  # 图表整体颜色风格\n",
    "\n",
    " \n",
    "\n",
    "chart.has_title = True  # 图表是否含有标题，默认为False\n",
    "\n",
    "chart.chart_title.text_frame.clear()  # 清除原标题\n",
    "\n",
    "new_paragraph = chart.chart_title.text_frame.add_paragraph()  # 添加一行新标题\n",
    "\n",
    "new_paragraph.text = '得分率对比'  # 新标题\n",
    "\n",
    "new_paragraph.font.size = Pt(15)  # 新标题字体大小\n",
    "\n",
    " \n",
    "\n",
    "category_axis = chart.category_axis  # category_axis 为chart的category控制类\n",
    "\n",
    "category_axis.has_major_gridlines = True  # 是否显示纵轴线\n",
    "\n",
    "category_axis.tick_labels.font.italic = True  # tick_labels为图表下标签，置为斜体\n",
    "\n",
    "category_axis.tick_labels.font.size = Pt(15)  # 下标签字体大小\n",
    "\n",
    "category_axis.tick_labels.font.color.rgb = RGBColor(255, 0, 0)  # 标签字体颜色\n",
    "\n",
    " \n",
    "\n",
    "value_axis = chart.value_axis  # value_axis 为chart的value控制类\n",
    "\n",
    "value_axis.maximum_scale = 100.0  # 纵坐标最大值\n",
    "\n",
    "value_axis.minimum_scale = 0.0  # 纵坐标最小值\n",
    "\n",
    "value_axis.minor_tick_mark = XL_TICK_MARK.CROSS\n",
    "\n",
    "value_axis.has_minor_gridlines = True\n",
    "\n",
    " \n",
    "\n",
    "tick_labels = value_axis.tick_labels  # tick_labels 为chart的纵轴标签控制类\n",
    "\n",
    "tick_labels.number_format = '0%'  # 标签显示样式\n",
    "\n",
    "tick_labels.font.bold = True  # 字体加粗\n",
    "\n",
    "tick_labels.font.size = Pt(14)  # 字体大小\n",
    "\n",
    "tick_labels.font.color.rgb = RGBColor(0, 255, 0)  # 标签颜色\n",
    "\n",
    " \n",
    "\n",
    "plot = chart.plots[0]  # 取图表中第一个plot\n",
    "\n",
    "plot.has_data_labels = True  # 是否显示数据标签\n",
    "\n",
    "data_labels = plot.data_labels  # 数据标签控制类\n",
    "\n",
    "data_labels.font.size = Pt(13)  # 字体大小\n",
    "\n",
    "data_labels.font.color.rgb = RGBColor(0, 0, 255)  # 字体颜色\n",
    "\n",
    "data_labels.position = XL_LABEL_POSITION.INSIDE_END  # 字体位置\n",
    "\n",
    " \n",
    "\n",
    "# chart 2 左下方图\n",
    "\n",
    "x, y, cx, cy = Inches(0.5), Inches(3.5), Inches(4), Inches(3)  # 按英尺标准指定x，y值\n",
    "\n",
    "chart_data = ChartData()\n",
    "\n",
    "chart_data.categories = ['A', 'B', 'C', 'D']\n",
    "\n",
    "chart_data.add_series(u'A班级选项占比', (80, 10, 9, 10))\n",
    "\n",
    "chart = slide.shapes.add_chart(XL_CHART_TYPE.PIE, x, y, cx, cy, chart_data).chart  # PIE为饼状图\n",
    "\n",
    " \n",
    "\n",
    "chart.has_legend = True  # 是否含有下方的说明\n",
    "\n",
    "chart.legend.position = XL_LEGEND_POSITION.BOTTOM\n",
    "\n",
    "chart.legend.horz_offset = 0  # 说明位移量 [-1, 1] 默认为0\n",
    "\n",
    " \n",
    "\n",
    "chart.plots[0].has_data_labels = True  # 饼中是否写入数值\n",
    "\n",
    "data_labels = chart.plots[0].data_labels\n",
    "\n",
    "data_labels.number_format = '0%'  # 数值显示格式\n",
    "\n",
    "data_labels.position = XL_LABEL_POSITION.INSIDE_END  # 数值布局方式\n",
    "\n",
    " \n",
    "\n",
    "chart.has_title = True\n",
    "\n",
    "chart.chart_title.text_frame.clear()  # 清除原标题\n",
    "\n",
    "new_paragraph = chart.chart_title.text_frame.add_paragraph()  # 添加一行新标题\n",
    "\n",
    "new_paragraph.text = 'A班级选项占比'  # 新标题\n",
    "\n",
    "new_paragraph.font.size = Pt(13)  # 新标题字体大小\n",
    "\n",
    " \n",
    "\n",
    "# chart 3 右下方图\n",
    "\n",
    "x, y, cx, cy = Inches(5.5), Inches(4), Inches(4), Inches(3)  # 按英尺标准指定x，y值\n",
    "\n",
    "chart_data = ChartData()\n",
    "\n",
    "chart_data.categories = ['A', 'B', 'C', 'D']\n",
    "\n",
    "chart_data.add_series(u'B班级选项占比', (0.1, 0.2, 0.3, 0.4))\n",
    "\n",
    "chart = slide.shapes.add_chart(XL_CHART_TYPE.PIE, x, y, cx, cy, chart_data).chart\n",
    "\n",
    " \n",
    "\n",
    "chart.has_legend = True\n",
    "\n",
    "chart.legend.position = XL_LEGEND_POSITION.BOTTOM\n",
    "\n",
    " \n",
    "\n",
    "chart.plots[0].has_data_labels = True\n",
    "\n",
    "data_labels = chart.plots[0].data_labels\n",
    "\n",
    "data_labels.number_format = '0%'\n",
    "\n",
    "data_labels.position = XL_LABEL_POSITION.INSIDE_END\n",
    "\n",
    " \n",
    "\n",
    "chart.has_title = True\n",
    "\n",
    "chart.chart_title.text_frame.clear()  # 清除原标题\n",
    "\n",
    "new_paragraph = chart.chart_title.text_frame.add_paragraph()  # 添加一行新标题\n",
    "\n",
    "new_paragraph.text = 'B班级选项占比'  # 新标题\n",
    "\n",
    "new_paragraph.font.size = Pt(13)  # 新标题字体大小\n",
    "\n",
    " \n",
    "\n",
    " \n",
    "\n",
    "# chart 4 右上方图\n",
    "\n",
    "x, y, cx, cy = Inches(5.5), Inches(0.5), Inches(4), Inches(3)\n",
    "\n",
    "chart_data = ChartData()\n",
    "\n",
    "chart_data.categories = ['0', '1-3', '4-6', '7-9']\n",
    "\n",
    "chart_data.add_series('', (50, 18, 30, 34))\n",
    "\n",
    "chart = slide.shapes.add_chart(XL_CHART_TYPE.PIE, x, y, cx, cy, chart_data).chart\n",
    "\n",
    " \n",
    "\n",
    "chart.has_legend = True\n",
    "\n",
    "chart.legend.position = XL_LEGEND_POSITION.BOTTOM\n",
    "\n",
    "chart.legend.font.size = Pt(13)\n",
    "\n",
    " \n",
    "\n",
    "chart.plots[0].has_data_labels = True\n",
    "\n",
    "data_labels = chart.plots[0].data_labels\n",
    "\n",
    "data_labels.number_format = '0%'\n",
    "\n",
    "data_labels.position = XL_LABEL_POSITION.INSIDE_END\n",
    "\n",
    " \n",
    "\n",
    "chart.has_title = True\n",
    "\n",
    "chart.chart_title.text_frame.clear()\n",
    "\n",
    "new_title = chart.chart_title.text_frame.add_paragraph()\n",
    "\n",
    "new_title.text = '得分占比'\n",
    "\n",
    "new_title.font.size = Pt(13)\n",
    "\n",
    "prs.save('test.pptx')"
   ]
  },
  {
   "cell_type": "code",
   "execution_count": null,
   "metadata": {},
   "outputs": [],
   "source": []
  },
  {
   "cell_type": "code",
   "execution_count": null,
   "metadata": {},
   "outputs": [],
   "source": []
  },
  {
   "cell_type": "code",
   "execution_count": null,
   "metadata": {},
   "outputs": [],
   "source": []
  },
  {
   "cell_type": "code",
   "execution_count": null,
   "metadata": {},
   "outputs": [],
   "source": []
  }
 ],
 "metadata": {
  "kernelspec": {
   "display_name": "Python 3",
   "language": "python",
   "name": "python3"
  },
  "language_info": {
   "codemirror_mode": {
    "name": "ipython",
    "version": 3
   },
   "file_extension": ".py",
   "mimetype": "text/x-python",
   "name": "python",
   "nbconvert_exporter": "python",
   "pygments_lexer": "ipython3",
   "version": "3.7.6"
  }
 },
 "nbformat": 4,
 "nbformat_minor": 4
}
